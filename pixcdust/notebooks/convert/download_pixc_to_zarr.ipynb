{
 "cells": [
  {
   "cell_type": "markdown",
   "metadata": {},
   "source": [
    "# Download and convert to Zarr\n",
    "This downloads SWOT Pixel Cloud products from hydroweb.next (API-Key necessary) based on a region and a period of interest.\n",
    "Then is extracts information contained in the area of interest for your study, stores everything in a Zarr Database (based on the zcollection package) for future use.\n",
    "Zarr (and the way we partitionned data with zcollection) is very efficient for computation. However, it is not (yet) compatible with QGIS compared to Geopackage.\n"
   ]
  },
  {
   "cell_type": "markdown",
   "metadata": {},
   "source": [
    "## Setting the region and period of interest\n",
    "Using a geopackage layer, preliminary created with, e.g. QGIS, to limit data download and database"
   ]
  },
  {
   "cell_type": "code",
   "execution_count": 1,
   "metadata": {},
   "outputs": [],
   "source": [
    "import pixcdust\n",
    "from pixcdust.downloaders.hydroweb_next import PixCDownloader\n",
    "import geopandas as gpd\n",
    "from datetime import datetime"
   ]
  },
  {
   "cell_type": "code",
   "execution_count": 2,
   "metadata": {},
   "outputs": [],
   "source": [
    "# reading the area of interest polygon\n",
    "gdf_geom = gpd.read_file(\"../data/aoi.gpkg\")\n",
    "\n",
    "dates = (\n",
    "    datetime(2024,8,1),\n",
    "    datetime(2024,8,15),\n",
    ")"
   ]
  },
  {
   "cell_type": "markdown",
   "metadata": {},
   "source": [
    "## Download\n",
    "This will unfortunately lead to downloading many big files (that will be removed later). This is the only way right now, but the hydroweb.next team is working on improving that."
   ]
  },
  {
   "cell_type": "code",
   "execution_count": 3,
   "metadata": {},
   "outputs": [],
   "source": [
    "pixcdownloader = PixCDownloader(\n",
    "    gdf_geom,\n",
    "    dates,\n",
    "    verbose=0,\n",
    "    path_download='/tmp/pixc',\n",
    "    )\n",
    "pixcdownloader.search_download()"
   ]
  },
  {
   "cell_type": "markdown",
   "metadata": {},
   "source": [
    "## Extraction\n",
    "Now we have all necessary files, let us extract key variables within area of interest in a Zarr (zcollection) database.\n",
    "This Zarr partionned format is very efficient for time analysis, but is not currently accessible in GIS softwares such as QGIS\n",
    "We are using the same geodataframe to limit the data to the area of interest"
   ]
  },
  {
   "cell_type": "code",
   "execution_count": 4,
   "metadata": {},
   "outputs": [],
   "source": [
    "from pixcdust.converters.zarr import Nc2ZarrConverter\n",
    "from glob import glob"
   ]
  },
  {
   "cell_type": "code",
   "execution_count": 5,
   "metadata": {},
   "outputs": [],
   "source": [
    "pixc = Nc2ZarrConverter(\n",
    "            glob(pixcdownloader.path_download+'/*/*nc'),\n",
    "            '/tmp/pixc_zarr',\n",
    "            variables=['height', 'sig0', 'classification'],\n",
    "            area_of_interest=gdf_geom,\n",
    "            mode='o',\n",
    "        )\n",
    "pixc.database_from_nc()"
   ]
  },
  {
   "cell_type": "markdown",
   "metadata": {},
   "source": [
    "database has been succesfully created, we can remove the raw files"
   ]
  },
  {
   "cell_type": "code",
   "execution_count": 6,
   "metadata": {},
   "outputs": [],
   "source": [
    "# import shutil\n",
    "# shutil.rmtree('/tmp/pixc')"
   ]
  },
  {
   "cell_type": "markdown",
   "metadata": {},
   "source": [
    "# Read the database\n",
    "previous steps are not necessary\n",
    "\n",
    "Now we can open this database in a xarray, or dataframe, or GeoDataFrame"
   ]
  },
  {
   "cell_type": "code",
   "execution_count": 7,
   "metadata": {},
   "outputs": [
    {
     "data": {
      "text/plain": [
       "<zcollection.dataset.Dataset>\n",
       "  Dimensions: ('points: 454911',)\n",
       "Data variables:\n",
       "    pass_number    (points)  uint16: dask.array<chunksize=(454911,)>                                                    \n",
       "    time           (points)  datetime64[ns]: dask.array<chunksize=(454911,)>                                            \n",
       "    geoid          (points)  float32: dask.array<chunksize=(454911,)>                                                   \n",
       "    cycle_number   (points)  uint16: dask.array<chunksize=(454911,)>                                                    \n",
       "    height         (points)  float32: dask.array<chunksize=(454911,)>                                                   \n",
       "    latitude       (points)  float64: dask.array<chunksize=(454911,)>                                                   \n",
       "    tile_number    (points)  uint16: dask.array<chunksize=(454911,)>                                                    \n",
       "    sig0           (points)  float32: dask.array<chunksize=(454911,)>                                                   \n",
       "    longitude      (points)  float32: dask.array<chunksize=(454911,)>                                                   \n",
       "    classification (points)  float32: dask.array<chunksize=(454911,)>                                                   \n",
       "  Attributes:\n",
       "    azimuth_offset            : 8                                                                                       \n",
       "    description               : 'cloud of geolocated interferogram pixels'                                              \n",
       "    interferogram_size_azimuth: 3269                                                                                    \n",
       "    interferogram_size_range  : 5110                                                                                    \n",
       "    looks_to_efflooks         : 1.5461373561681595                                                                      \n",
       "    num_azimuth_looks         : 7.0                                                                                     "
      ]
     },
     "execution_count": 7,
     "metadata": {},
     "output_type": "execute_result"
    }
   ],
   "source": [
    "from pixcdust.readers.zarr import ZarrReader\n",
    "import datetime\n",
    "\n",
    "pixc_read = ZarrReader(\n",
    "    \"/tmp/pixc_zarr\"\n",
    ")\n",
    "pixc_read.read((datetime.datetime(2024,8,3), datetime.datetime(2024,8,12)))\n",
    "pixc_read.data"
   ]
  },
  {
   "cell_type": "code",
   "execution_count": 8,
   "metadata": {},
   "outputs": [
    {
     "name": "stderr",
     "output_type": "stream",
     "text": [
      "/home/vschaffn/Documents/swot_pixc_study/pixcdust/converters/geo_utils.py:19: UserWarning: No active geometry column to be set. The resulting object will be a pandas.DataFrame with geopandas.GeometryArray(s) containing geometry and CRS information. Use `.set_geometry()` to set an active geometry and upcast to the geopandas.GeoDataFrame manually.\n",
      "  return ds.xvec.to_geodataframe(*args, **kwargs)\n"
     ]
    },
    {
     "data": {
      "text/html": [
       "<div>\n",
       "<style scoped>\n",
       "    .dataframe tbody tr th:only-of-type {\n",
       "        vertical-align: middle;\n",
       "    }\n",
       "\n",
       "    .dataframe tbody tr th {\n",
       "        vertical-align: top;\n",
       "    }\n",
       "\n",
       "    .dataframe thead th {\n",
       "        text-align: right;\n",
       "    }\n",
       "</style>\n",
       "<table border=\"1\" class=\"dataframe\">\n",
       "  <thead>\n",
       "    <tr style=\"text-align: right;\">\n",
       "      <th></th>\n",
       "      <th>pass_number</th>\n",
       "      <th>time</th>\n",
       "      <th>geoid</th>\n",
       "      <th>cycle_number</th>\n",
       "      <th>height</th>\n",
       "      <th>latitude</th>\n",
       "      <th>tile_number</th>\n",
       "      <th>sig0</th>\n",
       "      <th>longitude</th>\n",
       "      <th>classification</th>\n",
       "    </tr>\n",
       "    <tr>\n",
       "      <th>points</th>\n",
       "      <th></th>\n",
       "      <th></th>\n",
       "      <th></th>\n",
       "      <th></th>\n",
       "      <th></th>\n",
       "      <th></th>\n",
       "      <th></th>\n",
       "      <th></th>\n",
       "      <th></th>\n",
       "      <th></th>\n",
       "    </tr>\n",
       "  </thead>\n",
       "  <tbody>\n",
       "    <tr>\n",
       "      <th>0</th>\n",
       "      <td>113</td>\n",
       "      <td>2024-08-03 19:45:40</td>\n",
       "      <td>49.860451</td>\n",
       "      <td>19</td>\n",
       "      <td>104.468773</td>\n",
       "      <td>43.400035</td>\n",
       "      <td>231</td>\n",
       "      <td>0.126049</td>\n",
       "      <td>-1.369702</td>\n",
       "      <td>1.0</td>\n",
       "    </tr>\n",
       "    <tr>\n",
       "      <th>1</th>\n",
       "      <td>113</td>\n",
       "      <td>2024-08-03 19:45:40</td>\n",
       "      <td>49.850384</td>\n",
       "      <td>19</td>\n",
       "      <td>105.157257</td>\n",
       "      <td>43.401611</td>\n",
       "      <td>231</td>\n",
       "      <td>1.670013</td>\n",
       "      <td>-1.369505</td>\n",
       "      <td>1.0</td>\n",
       "    </tr>\n",
       "    <tr>\n",
       "      <th>2</th>\n",
       "      <td>113</td>\n",
       "      <td>2024-08-03 19:45:40</td>\n",
       "      <td>49.850330</td>\n",
       "      <td>19</td>\n",
       "      <td>105.967972</td>\n",
       "      <td>43.401614</td>\n",
       "      <td>231</td>\n",
       "      <td>0.849357</td>\n",
       "      <td>-1.369523</td>\n",
       "      <td>1.0</td>\n",
       "    </tr>\n",
       "    <tr>\n",
       "      <th>3</th>\n",
       "      <td>113</td>\n",
       "      <td>2024-08-03 19:45:40</td>\n",
       "      <td>49.848896</td>\n",
       "      <td>19</td>\n",
       "      <td>106.349503</td>\n",
       "      <td>43.401822</td>\n",
       "      <td>231</td>\n",
       "      <td>2.333836</td>\n",
       "      <td>-1.369558</td>\n",
       "      <td>1.0</td>\n",
       "    </tr>\n",
       "    <tr>\n",
       "      <th>4</th>\n",
       "      <td>113</td>\n",
       "      <td>2024-08-03 19:45:40</td>\n",
       "      <td>49.850609</td>\n",
       "      <td>19</td>\n",
       "      <td>111.493073</td>\n",
       "      <td>43.400756</td>\n",
       "      <td>231</td>\n",
       "      <td>0.279340</td>\n",
       "      <td>-1.372568</td>\n",
       "      <td>1.0</td>\n",
       "    </tr>\n",
       "    <tr>\n",
       "      <th>...</th>\n",
       "      <td>...</td>\n",
       "      <td>...</td>\n",
       "      <td>...</td>\n",
       "      <td>...</td>\n",
       "      <td>...</td>\n",
       "      <td>...</td>\n",
       "      <td>...</td>\n",
       "      <td>...</td>\n",
       "      <td>...</td>\n",
       "      <td>...</td>\n",
       "    </tr>\n",
       "    <tr>\n",
       "      <th>454906</th>\n",
       "      <td>113</td>\n",
       "      <td>2024-08-03 19:45:40</td>\n",
       "      <td>49.011883</td>\n",
       "      <td>19</td>\n",
       "      <td>52.735500</td>\n",
       "      <td>43.559886</td>\n",
       "      <td>231</td>\n",
       "      <td>0.310618</td>\n",
       "      <td>-1.481835</td>\n",
       "      <td>1.0</td>\n",
       "    </tr>\n",
       "    <tr>\n",
       "      <th>454907</th>\n",
       "      <td>113</td>\n",
       "      <td>2024-08-03 19:45:40</td>\n",
       "      <td>49.011688</td>\n",
       "      <td>19</td>\n",
       "      <td>52.747566</td>\n",
       "      <td>43.559915</td>\n",
       "      <td>231</td>\n",
       "      <td>1.150792</td>\n",
       "      <td>-1.481995</td>\n",
       "      <td>1.0</td>\n",
       "    </tr>\n",
       "    <tr>\n",
       "      <th>454908</th>\n",
       "      <td>113</td>\n",
       "      <td>2024-08-03 19:45:40</td>\n",
       "      <td>49.012001</td>\n",
       "      <td>19</td>\n",
       "      <td>51.568275</td>\n",
       "      <td>43.560002</td>\n",
       "      <td>231</td>\n",
       "      <td>0.164267</td>\n",
       "      <td>-1.481359</td>\n",
       "      <td>1.0</td>\n",
       "    </tr>\n",
       "    <tr>\n",
       "      <th>454909</th>\n",
       "      <td>113</td>\n",
       "      <td>2024-08-03 19:45:40</td>\n",
       "      <td>49.011951</td>\n",
       "      <td>19</td>\n",
       "      <td>53.262161</td>\n",
       "      <td>43.560010</td>\n",
       "      <td>231</td>\n",
       "      <td>0.244023</td>\n",
       "      <td>-1.481399</td>\n",
       "      <td>1.0</td>\n",
       "    </tr>\n",
       "    <tr>\n",
       "      <th>454910</th>\n",
       "      <td>113</td>\n",
       "      <td>2024-08-03 19:45:40</td>\n",
       "      <td>49.011654</td>\n",
       "      <td>19</td>\n",
       "      <td>53.688076</td>\n",
       "      <td>43.560054</td>\n",
       "      <td>231</td>\n",
       "      <td>0.551157</td>\n",
       "      <td>-1.481646</td>\n",
       "      <td>1.0</td>\n",
       "    </tr>\n",
       "  </tbody>\n",
       "</table>\n",
       "<p>454911 rows × 10 columns</p>\n",
       "</div>"
      ],
      "text/plain": [
       "        pass_number                time      geoid  cycle_number      height  \\\n",
       "points                                                                         \n",
       "0               113 2024-08-03 19:45:40  49.860451            19  104.468773   \n",
       "1               113 2024-08-03 19:45:40  49.850384            19  105.157257   \n",
       "2               113 2024-08-03 19:45:40  49.850330            19  105.967972   \n",
       "3               113 2024-08-03 19:45:40  49.848896            19  106.349503   \n",
       "4               113 2024-08-03 19:45:40  49.850609            19  111.493073   \n",
       "...             ...                 ...        ...           ...         ...   \n",
       "454906          113 2024-08-03 19:45:40  49.011883            19   52.735500   \n",
       "454907          113 2024-08-03 19:45:40  49.011688            19   52.747566   \n",
       "454908          113 2024-08-03 19:45:40  49.012001            19   51.568275   \n",
       "454909          113 2024-08-03 19:45:40  49.011951            19   53.262161   \n",
       "454910          113 2024-08-03 19:45:40  49.011654            19   53.688076   \n",
       "\n",
       "         latitude  tile_number      sig0  longitude  classification  \n",
       "points                                                               \n",
       "0       43.400035          231  0.126049  -1.369702             1.0  \n",
       "1       43.401611          231  1.670013  -1.369505             1.0  \n",
       "2       43.401614          231  0.849357  -1.369523             1.0  \n",
       "3       43.401822          231  2.333836  -1.369558             1.0  \n",
       "4       43.400756          231  0.279340  -1.372568             1.0  \n",
       "...           ...          ...       ...        ...             ...  \n",
       "454906  43.559886          231  0.310618  -1.481835             1.0  \n",
       "454907  43.559915          231  1.150792  -1.481995             1.0  \n",
       "454908  43.560002          231  0.164267  -1.481359             1.0  \n",
       "454909  43.560010          231  0.244023  -1.481399             1.0  \n",
       "454910  43.560054          231  0.551157  -1.481646             1.0  \n",
       "\n",
       "[454911 rows x 10 columns]"
      ]
     },
     "execution_count": 8,
     "metadata": {},
     "output_type": "execute_result"
    }
   ],
   "source": [
    "gdf_pixc = pixc_read.to_geodataframe()\n",
    "gdf_pixc"
   ]
  },
  {
   "cell_type": "markdown",
   "metadata": {},
   "source": [
    "Enjoy!"
   ]
  }
 ],
 "metadata": {
  "kernelspec": {
   "display_name": "Python 3 (ipykernel)",
   "language": "python",
   "name": "python3"
  },
  "language_info": {
   "codemirror_mode": {
    "name": "ipython",
    "version": 3
   },
   "file_extension": ".py",
   "mimetype": "text/x-python",
   "name": "python",
   "nbconvert_exporter": "python",
   "pygments_lexer": "ipython3",
   "version": "3.10.12"
  }
 },
 "nbformat": 4,
 "nbformat_minor": 4
}
