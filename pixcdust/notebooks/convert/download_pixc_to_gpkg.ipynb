{
 "cells": [
  {
   "cell_type": "markdown",
   "metadata": {},
   "source": [
    "# Download and convert to Geopackage\n",
    "\n",
    "This downloads SWOT Pixel Cloud products from hydroweb.next (API-Key necessary) based on a region and a period of interest.\n",
    "Then is extracts information contained in the area of interest for your study, stores everything in a Geopackage Database for future use.\n",
    "Geopackage is a convenient data storage format, based on SQL, and is compatible with QGIS.\n"
   ]
  },
  {
   "cell_type": "markdown",
   "metadata": {},
   "source": [
    "## Setting the region and period of interest\n",
    "Using a geopackage layer, preliminary created with, e.g. QGIS, to limit data download and database"
   ]
  },
  {
   "cell_type": "code",
   "execution_count": 1,
   "metadata": {},
   "outputs": [],
   "source": [
    "from pixcdust.downloaders.hydroweb_next import PixCDownloader\n",
    "import geopandas as gpd\n",
    "from datetime import datetime"
   ]
  },
  {
   "cell_type": "code",
   "execution_count": 2,
   "metadata": {},
   "outputs": [],
   "source": [
    "# reading the area of interest polygon (could have been set)\n",
    "# gdf_geom = gpd.read_file('/home/hysope2/STUDIES/SWOT_Panama/DATA/aoi.gpkg')\n",
    "gdf_geom = gpd.read_file('/home/vschaffn/Documents/swot_data/aoi.gpkg')\n",
    "\n",
    "# Limiting time period\n",
    "dates = (\n",
    "    datetime(2023,4,6),\n",
    "    datetime(2023,4,7),\n",
    ")\n"
   ]
  },
  {
   "cell_type": "markdown",
   "metadata": {},
   "source": [
    "## Download\n",
    "This will unfortunately lead to downloading many big files (that will be removed later). This is the only way right now, but the hydroweb.next team is working on improving that."
   ]
  },
  {
   "cell_type": "code",
   "execution_count": null,
   "metadata": {},
   "outputs": [
    {
     "data": {
      "text/html": [
       "[Retry #5, 0/2 D/L] Waiting 109s until next download try (retry every 2' for 20')"
      ],
      "text/plain": [
       "<IPython.core.display.HTML object>"
      ]
     },
     "metadata": {},
     "output_type": "display_data"
    }
   ],
   "source": [
    "pixcdownloader = PixCDownloader(\n",
    "    gdf_geom,\n",
    "    dates,\n",
    "    verbose=0,\n",
    "    path_download='/tmp/pixc',\n",
    "    )\n",
    "pixcdownloader.search_download()"
   ]
  },
  {
   "cell_type": "markdown",
   "metadata": {},
   "source": [
    "## Extraction\n",
    "Now we have all necessary files, let us extract key variables within area of interest in a geopackage database.\n",
    "This geopackage format is quite efficient (though not the most efficient), and may easily be visualized in, e.g., QGIS\n",
    "We are using the same geodataframe to limit the data to the area of interest"
   ]
  },
  {
   "cell_type": "code",
   "execution_count": 4,
   "metadata": {},
   "outputs": [],
   "source": [
    "from pixcdust.converters.gpkg import Nc2GpkgConverter\n",
    "from glob import glob"
   ]
  },
  {
   "cell_type": "code",
   "execution_count": 5,
   "metadata": {},
   "outputs": [
    {
     "name": "stderr",
     "output_type": "stream",
     "text": [
      " 50%|████████████████████████████████████████████████████████████████████████████████████████████                                                                                            | 1/2 [00:05<00:05,  5.57s/it]"
     ]
    },
    {
     "name": "stdout",
     "output_type": "stream",
     "text": [
      "--File /tmp/pixc/URN_FEATURE_DATA_swot_cb8c5eee-ae7e-34b8-baa5-482a8d220531_V1-URN_FEATURE_DATA_swot_cb8c5eee-ae7e-34b8-baa5-482a8d220531_V1/SWOT_L2_HR_PIXC_482_016_077L_20230406T094608_20230406T094619_PGC0_01.nc combined with area of interest                        returned empty. Skipping it\n"
     ]
    },
    {
     "name": "stderr",
     "output_type": "stream",
     "text": [
      "100%|███████████████████████████████████████████████████████████████████████████████████████████████████████████████████████████████████████████████████████████████████████████████████████| 2/2 [04:37<00:00, 138.53s/it]\n"
     ]
    }
   ],
   "source": [
    "pixc = Nc2GpkgConverter(\n",
    "            glob(pixcdownloader.path_download+'/*/*nc'),\n",
    "            \"/tmp/pixc_gpkg.gpkg\",\n",
    "            variables=['height', 'sig0', 'classification'],\n",
    "            area_of_interest=gdf_geom,\n",
    "            mode='o',\n",
    "        )\n",
    "pixc.database_from_nc()"
   ]
  },
  {
   "cell_type": "markdown",
   "metadata": {},
   "source": [
    "database has been succesfully created, we can remove the raw files"
   ]
  },
  {
   "cell_type": "code",
   "execution_count": 16,
   "metadata": {},
   "outputs": [],
   "source": [
    "# import shutil\n",
    "# shutil.rmtree('/tmp/pixc')"
   ]
  },
  {
   "cell_type": "markdown",
   "metadata": {},
   "source": [
    "# Read the database\n",
    "previous steps are not necessary\n",
    "\n",
    "Now we can open this database in a GeoDataFrame, load it in, e.g., QGIS, etc."
   ]
  },
  {
   "cell_type": "code",
   "execution_count": 6,
   "metadata": {},
   "outputs": [
    {
     "name": "stderr",
     "output_type": "stream",
     "text": [
      "100%|████████████████████████████████████████████████████████████████████████████████████████████████████████████████████████████████████████████████████████████████████████████████████████| 1/1 [00:03<00:00,  3.98s/it]\n"
     ]
    },
    {
     "data": {
      "text/html": [
       "<div>\n",
       "<style scoped>\n",
       "    .dataframe tbody tr th:only-of-type {\n",
       "        vertical-align: middle;\n",
       "    }\n",
       "\n",
       "    .dataframe tbody tr th {\n",
       "        vertical-align: top;\n",
       "    }\n",
       "\n",
       "    .dataframe thead th {\n",
       "        text-align: right;\n",
       "    }\n",
       "</style>\n",
       "<table border=\"1\" class=\"dataframe\">\n",
       "  <thead>\n",
       "    <tr style=\"text-align: right;\">\n",
       "      <th></th>\n",
       "      <th>height</th>\n",
       "      <th>sig0</th>\n",
       "      <th>classification</th>\n",
       "      <th>geoid</th>\n",
       "      <th>latitude</th>\n",
       "      <th>longitude</th>\n",
       "      <th>wse</th>\n",
       "      <th>geometry</th>\n",
       "    </tr>\n",
       "  </thead>\n",
       "  <tbody>\n",
       "    <tr>\n",
       "      <th>0</th>\n",
       "      <td>254.042862</td>\n",
       "      <td>6.551862</td>\n",
       "      <td>6.0</td>\n",
       "      <td>49.569977</td>\n",
       "      <td>43.441763</td>\n",
       "      <td>1.222368</td>\n",
       "      <td>204.472885</td>\n",
       "      <td>POINT (1.22237 43.44176)</td>\n",
       "    </tr>\n",
       "    <tr>\n",
       "      <th>1</th>\n",
       "      <td>247.325134</td>\n",
       "      <td>0.184823</td>\n",
       "      <td>1.0</td>\n",
       "      <td>49.569973</td>\n",
       "      <td>43.441765</td>\n",
       "      <td>1.222379</td>\n",
       "      <td>197.755157</td>\n",
       "      <td>POINT (1.22238 43.44177)</td>\n",
       "    </tr>\n",
       "    <tr>\n",
       "      <th>2</th>\n",
       "      <td>250.669281</td>\n",
       "      <td>0.566375</td>\n",
       "      <td>2.0</td>\n",
       "      <td>49.569908</td>\n",
       "      <td>43.441785</td>\n",
       "      <td>1.222488</td>\n",
       "      <td>201.099365</td>\n",
       "      <td>POINT (1.22249 43.44178)</td>\n",
       "    </tr>\n",
       "    <tr>\n",
       "      <th>3</th>\n",
       "      <td>248.438095</td>\n",
       "      <td>0.689724</td>\n",
       "      <td>1.0</td>\n",
       "      <td>49.569904</td>\n",
       "      <td>43.441786</td>\n",
       "      <td>1.222494</td>\n",
       "      <td>198.868195</td>\n",
       "      <td>POINT (1.22249 43.44179)</td>\n",
       "    </tr>\n",
       "    <tr>\n",
       "      <th>4</th>\n",
       "      <td>254.293930</td>\n",
       "      <td>11.020334</td>\n",
       "      <td>6.0</td>\n",
       "      <td>49.569794</td>\n",
       "      <td>43.441820</td>\n",
       "      <td>1.222685</td>\n",
       "      <td>204.724136</td>\n",
       "      <td>POINT (1.22268 43.44182)</td>\n",
       "    </tr>\n",
       "    <tr>\n",
       "      <th>...</th>\n",
       "      <td>...</td>\n",
       "      <td>...</td>\n",
       "      <td>...</td>\n",
       "      <td>...</td>\n",
       "      <td>...</td>\n",
       "      <td>...</td>\n",
       "      <td>...</td>\n",
       "      <td>...</td>\n",
       "    </tr>\n",
       "    <tr>\n",
       "      <th>2827186</th>\n",
       "      <td>271.792694</td>\n",
       "      <td>-1.606044</td>\n",
       "      <td>1.0</td>\n",
       "      <td>49.451050</td>\n",
       "      <td>43.735045</td>\n",
       "      <td>1.574508</td>\n",
       "      <td>222.341644</td>\n",
       "      <td>POINT (1.57451 43.73504)</td>\n",
       "    </tr>\n",
       "    <tr>\n",
       "      <th>2827187</th>\n",
       "      <td>271.873932</td>\n",
       "      <td>-1.053646</td>\n",
       "      <td>1.0</td>\n",
       "      <td>49.450874</td>\n",
       "      <td>43.735218</td>\n",
       "      <td>1.574340</td>\n",
       "      <td>222.423065</td>\n",
       "      <td>POINT (1.57434 43.73522)</td>\n",
       "    </tr>\n",
       "    <tr>\n",
       "      <th>2827188</th>\n",
       "      <td>269.939667</td>\n",
       "      <td>0.699450</td>\n",
       "      <td>1.0</td>\n",
       "      <td>49.450420</td>\n",
       "      <td>43.735340</td>\n",
       "      <td>1.573886</td>\n",
       "      <td>220.489243</td>\n",
       "      <td>POINT (1.57389 43.73534)</td>\n",
       "    </tr>\n",
       "    <tr>\n",
       "      <th>2827189</th>\n",
       "      <td>273.954163</td>\n",
       "      <td>2.845398</td>\n",
       "      <td>1.0</td>\n",
       "      <td>49.450687</td>\n",
       "      <td>43.735594</td>\n",
       "      <td>1.574173</td>\n",
       "      <td>224.503479</td>\n",
       "      <td>POINT (1.57417 43.73559)</td>\n",
       "    </tr>\n",
       "    <tr>\n",
       "      <th>2827190</th>\n",
       "      <td>301.943512</td>\n",
       "      <td>2.704756</td>\n",
       "      <td>1.0</td>\n",
       "      <td>49.454903</td>\n",
       "      <td>43.735541</td>\n",
       "      <td>1.578442</td>\n",
       "      <td>252.488617</td>\n",
       "      <td>POINT (1.57844 43.73554)</td>\n",
       "    </tr>\n",
       "  </tbody>\n",
       "</table>\n",
       "<p>2827191 rows × 8 columns</p>\n",
       "</div>"
      ],
      "text/plain": [
       "             height       sig0  classification      geoid   latitude  \\\n",
       "0        254.042862   6.551862             6.0  49.569977  43.441763   \n",
       "1        247.325134   0.184823             1.0  49.569973  43.441765   \n",
       "2        250.669281   0.566375             2.0  49.569908  43.441785   \n",
       "3        248.438095   0.689724             1.0  49.569904  43.441786   \n",
       "4        254.293930  11.020334             6.0  49.569794  43.441820   \n",
       "...             ...        ...             ...        ...        ...   \n",
       "2827186  271.792694  -1.606044             1.0  49.451050  43.735045   \n",
       "2827187  271.873932  -1.053646             1.0  49.450874  43.735218   \n",
       "2827188  269.939667   0.699450             1.0  49.450420  43.735340   \n",
       "2827189  273.954163   2.845398             1.0  49.450687  43.735594   \n",
       "2827190  301.943512   2.704756             1.0  49.454903  43.735541   \n",
       "\n",
       "         longitude         wse                  geometry  \n",
       "0         1.222368  204.472885  POINT (1.22237 43.44176)  \n",
       "1         1.222379  197.755157  POINT (1.22238 43.44177)  \n",
       "2         1.222488  201.099365  POINT (1.22249 43.44178)  \n",
       "3         1.222494  198.868195  POINT (1.22249 43.44179)  \n",
       "4         1.222685  204.724136  POINT (1.22268 43.44182)  \n",
       "...            ...         ...                       ...  \n",
       "2827186   1.574508  222.341644  POINT (1.57451 43.73504)  \n",
       "2827187   1.574340  222.423065  POINT (1.57434 43.73522)  \n",
       "2827188   1.573886  220.489243  POINT (1.57389 43.73534)  \n",
       "2827189   1.574173  224.503479  POINT (1.57417 43.73559)  \n",
       "2827190   1.578442  252.488617  POINT (1.57844 43.73554)  \n",
       "\n",
       "[2827191 rows x 8 columns]"
      ]
     },
     "execution_count": 6,
     "metadata": {},
     "output_type": "execute_result"
    }
   ],
   "source": [
    "from pixcdust.readers.gpkg import GpkgReader\n",
    "\n",
    "# nb: you may specify \n",
    "pixc_read = PixCGpkgReader(\n",
    "    \"/tmp/pixc_gpkg.gpkg\"\n",
    ")\n",
    "pixc_read.read()\n",
    "pixc_read.data"
   ]
  },
  {
   "cell_type": "markdown",
   "metadata": {},
   "source": [
    "Enjoy!"
   ]
  },
  {
   "cell_type": "markdown",
   "metadata": {},
   "source": []
  }
 ],
 "metadata": {
  "kernelspec": {
   "display_name": "Python 3 (ipykernel)",
   "language": "python",
   "name": "python3"
  },
  "language_info": {
   "codemirror_mode": {
    "name": "ipython",
    "version": 3
   },
   "file_extension": ".py",
   "mimetype": "text/x-python",
   "name": "python",
   "nbconvert_exporter": "python",
   "pygments_lexer": "ipython3",
   "version": "3.10.12"
  }
 },
 "nbformat": 4,
 "nbformat_minor": 4
}
