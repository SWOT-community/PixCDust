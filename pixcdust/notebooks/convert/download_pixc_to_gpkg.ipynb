{
 "cells": [
  {
   "cell_type": "markdown",
   "metadata": {},
   "source": [
    "# Download and convert to Geopackage\n",
    "\n",
    "This downloads SWOT Pixel Cloud products from hydroweb.next (API-Key necessary) based on a region and a period of interest.\n",
    "Then is extracts information contained in the area of interest for your study, stores everything in a Geopackage Database for future use.\n",
    "Geopackage is a convenient data storage format, based on SQL, and is compatible with QGIS.\n"
   ]
  },
  {
   "cell_type": "markdown",
   "metadata": {},
   "source": [
    "## Setting the region and period of interest\n",
    "Using a geopackage layer, preliminary created with, e.g. QGIS, to limit data download and database"
   ]
  },
  {
   "cell_type": "code",
   "execution_count": 1,
   "metadata": {},
   "outputs": [],
   "source": [
    "from pixcdust.downloaders.hydroweb_next import PixCDownloader\n",
    "import geopandas as gpd\n",
    "from datetime import datetime"
   ]
  },
  {
   "cell_type": "code",
   "execution_count": 2,
   "metadata": {},
   "outputs": [],
   "source": [
    "# reading the area of interest polygon (could have been set)\n",
    "# gdf_geom = gpd.read_file('/home/hysope2/STUDIES/SWOT_Panama/DATA/aoi.gpkg')\n",
    "gdf_geom = gpd.read_file(\"../data/aoi.gpkg\")\n",
    "\n",
    "# Limiting time period\n",
    "dates = (\n",
    "    datetime(2024,8,1),\n",
    "    datetime(2024,8,15),\n",
    ")\n"
   ]
  },
  {
   "cell_type": "markdown",
   "metadata": {},
   "source": [
    "## Download\n",
    "This will unfortunately lead to downloading many big files (that will be removed later). This is the only way right now, but the hydroweb.next team is working on improving that."
   ]
  },
  {
   "cell_type": "code",
   "execution_count": 3,
   "metadata": {},
   "outputs": [],
   "source": [
    "pixcdownloader = PixCDownloader(\n",
    "    gdf_geom,\n",
    "    dates,\n",
    "    verbose=0,\n",
    "    path_download='/tmp/pixc',\n",
    "    )\n",
    "pixcdownloader.search_download()"
   ]
  },
  {
   "cell_type": "markdown",
   "metadata": {},
   "source": [
    "## Extraction\n",
    "Now we have all necessary files, let us extract key variables within area of interest in a geopackage database.\n",
    "This geopackage format is quite efficient (though not the most efficient), and may easily be visualized in, e.g., QGIS\n",
    "We are using the same geodataframe to limit the data to the area of interest"
   ]
  },
  {
   "cell_type": "code",
   "execution_count": 4,
   "metadata": {},
   "outputs": [],
   "source": [
    "from pixcdust.converters.gpkg import Nc2GpkgConverter\n",
    "from glob import glob"
   ]
  },
  {
   "cell_type": "code",
   "execution_count": 5,
   "metadata": {},
   "outputs": [
    {
     "name": "stderr",
     "output_type": "stream",
     "text": [
      "100%|████████████████████████████████████████████████████████████████████| 2/2 [00:52<00:00, 26.48s/it]\n"
     ]
    }
   ],
   "source": [
    "pixc = Nc2GpkgConverter(\n",
    "            glob(pixcdownloader.path_download+'/*/*nc'),\n",
    "            \"/tmp/pixc_gpkg.gpkg\",\n",
    "            variables=['height', 'sig0', 'classification'],\n",
    "            area_of_interest=gdf_geom,\n",
    "            mode='o',\n",
    "        )\n",
    "pixc.database_from_nc()"
   ]
  },
  {
   "cell_type": "markdown",
   "metadata": {},
   "source": [
    "database has been succesfully created, we can remove the raw files"
   ]
  },
  {
   "cell_type": "code",
   "execution_count": 6,
   "metadata": {},
   "outputs": [],
   "source": [
    "# import shutil\n",
    "# shutil.rmtree('/tmp/pixc')"
   ]
  },
  {
   "cell_type": "markdown",
   "metadata": {},
   "source": [
    "# Read the database\n",
    "Previous steps are not necessary\n",
    "\n",
    "Now we can open this database in a GeoDataFrame, load it in, e.g., QGIS, etc."
   ]
  },
  {
   "cell_type": "code",
   "execution_count": 7,
   "metadata": {},
   "outputs": [
    {
     "name": "stderr",
     "output_type": "stream",
     "text": [
      "100%|████████████████████████████████████████████████████████████████████| 2/2 [00:00<00:00,  3.38it/s]\n"
     ]
    },
    {
     "data": {
      "text/html": [
       "<div>\n",
       "<style scoped>\n",
       "    .dataframe tbody tr th:only-of-type {\n",
       "        vertical-align: middle;\n",
       "    }\n",
       "\n",
       "    .dataframe tbody tr th {\n",
       "        vertical-align: top;\n",
       "    }\n",
       "\n",
       "    .dataframe thead th {\n",
       "        text-align: right;\n",
       "    }\n",
       "</style>\n",
       "<table border=\"1\" class=\"dataframe\">\n",
       "  <thead>\n",
       "    <tr style=\"text-align: right;\">\n",
       "      <th></th>\n",
       "      <th>height</th>\n",
       "      <th>sig0</th>\n",
       "      <th>classification</th>\n",
       "      <th>geoid</th>\n",
       "      <th>latitude</th>\n",
       "      <th>longitude</th>\n",
       "      <th>wse</th>\n",
       "      <th>geometry</th>\n",
       "    </tr>\n",
       "  </thead>\n",
       "  <tbody>\n",
       "    <tr>\n",
       "      <th>0</th>\n",
       "      <td>94.072586</td>\n",
       "      <td>5.111407</td>\n",
       "      <td>1.0</td>\n",
       "      <td>49.683472</td>\n",
       "      <td>43.399101</td>\n",
       "      <td>-1.475007</td>\n",
       "      <td>44.389114</td>\n",
       "      <td>POINT (-1.47501 43.39910)</td>\n",
       "    </tr>\n",
       "    <tr>\n",
       "      <th>1</th>\n",
       "      <td>91.988503</td>\n",
       "      <td>2.306671</td>\n",
       "      <td>2.0</td>\n",
       "      <td>49.682842</td>\n",
       "      <td>43.399265</td>\n",
       "      <td>-1.474796</td>\n",
       "      <td>42.305660</td>\n",
       "      <td>POINT (-1.47480 43.39926)</td>\n",
       "    </tr>\n",
       "    <tr>\n",
       "      <th>2</th>\n",
       "      <td>97.418854</td>\n",
       "      <td>0.778096</td>\n",
       "      <td>1.0</td>\n",
       "      <td>49.682732</td>\n",
       "      <td>43.399272</td>\n",
       "      <td>-1.474838</td>\n",
       "      <td>47.736122</td>\n",
       "      <td>POINT (-1.47484 43.39927)</td>\n",
       "    </tr>\n",
       "    <tr>\n",
       "      <th>3</th>\n",
       "      <td>99.751564</td>\n",
       "      <td>0.835120</td>\n",
       "      <td>1.0</td>\n",
       "      <td>49.680717</td>\n",
       "      <td>43.399527</td>\n",
       "      <td>-1.475134</td>\n",
       "      <td>50.070847</td>\n",
       "      <td>POINT (-1.47513 43.39953)</td>\n",
       "    </tr>\n",
       "    <tr>\n",
       "      <th>4</th>\n",
       "      <td>89.247116</td>\n",
       "      <td>3.606017</td>\n",
       "      <td>2.0</td>\n",
       "      <td>49.686085</td>\n",
       "      <td>43.398929</td>\n",
       "      <td>-1.474051</td>\n",
       "      <td>39.561031</td>\n",
       "      <td>POINT (-1.47405 43.39893)</td>\n",
       "    </tr>\n",
       "    <tr>\n",
       "      <th>...</th>\n",
       "      <td>...</td>\n",
       "      <td>...</td>\n",
       "      <td>...</td>\n",
       "      <td>...</td>\n",
       "      <td>...</td>\n",
       "      <td>...</td>\n",
       "      <td>...</td>\n",
       "      <td>...</td>\n",
       "    </tr>\n",
       "    <tr>\n",
       "      <th>530317</th>\n",
       "      <td>89.535172</td>\n",
       "      <td>0.735030</td>\n",
       "      <td>1.0</td>\n",
       "      <td>49.064987</td>\n",
       "      <td>43.564340</td>\n",
       "      <td>-1.394668</td>\n",
       "      <td>40.470184</td>\n",
       "      <td>POINT (-1.39467 43.56434)</td>\n",
       "    </tr>\n",
       "    <tr>\n",
       "      <th>530318</th>\n",
       "      <td>94.091469</td>\n",
       "      <td>0.177528</td>\n",
       "      <td>1.0</td>\n",
       "      <td>49.064285</td>\n",
       "      <td>43.564356</td>\n",
       "      <td>-1.395633</td>\n",
       "      <td>45.027184</td>\n",
       "      <td>POINT (-1.39563 43.56436)</td>\n",
       "    </tr>\n",
       "    <tr>\n",
       "      <th>530319</th>\n",
       "      <td>90.996582</td>\n",
       "      <td>-0.089914</td>\n",
       "      <td>1.0</td>\n",
       "      <td>49.064289</td>\n",
       "      <td>43.564359</td>\n",
       "      <td>-1.395620</td>\n",
       "      <td>41.932293</td>\n",
       "      <td>POINT (-1.39562 43.56436)</td>\n",
       "    </tr>\n",
       "    <tr>\n",
       "      <th>530320</th>\n",
       "      <td>93.612373</td>\n",
       "      <td>0.340582</td>\n",
       "      <td>1.0</td>\n",
       "      <td>49.064327</td>\n",
       "      <td>43.564391</td>\n",
       "      <td>-1.395450</td>\n",
       "      <td>44.548046</td>\n",
       "      <td>POINT (-1.39545 43.56439)</td>\n",
       "    </tr>\n",
       "    <tr>\n",
       "      <th>530321</th>\n",
       "      <td>90.886055</td>\n",
       "      <td>-0.481367</td>\n",
       "      <td>1.0</td>\n",
       "      <td>49.064445</td>\n",
       "      <td>43.564491</td>\n",
       "      <td>-1.394932</td>\n",
       "      <td>41.821609</td>\n",
       "      <td>POINT (-1.39493 43.56449)</td>\n",
       "    </tr>\n",
       "  </tbody>\n",
       "</table>\n",
       "<p>530322 rows × 8 columns</p>\n",
       "</div>"
      ],
      "text/plain": [
       "           height      sig0  classification      geoid   latitude  longitude  \\\n",
       "0       94.072586  5.111407             1.0  49.683472  43.399101  -1.475007   \n",
       "1       91.988503  2.306671             2.0  49.682842  43.399265  -1.474796   \n",
       "2       97.418854  0.778096             1.0  49.682732  43.399272  -1.474838   \n",
       "3       99.751564  0.835120             1.0  49.680717  43.399527  -1.475134   \n",
       "4       89.247116  3.606017             2.0  49.686085  43.398929  -1.474051   \n",
       "...           ...       ...             ...        ...        ...        ...   \n",
       "530317  89.535172  0.735030             1.0  49.064987  43.564340  -1.394668   \n",
       "530318  94.091469  0.177528             1.0  49.064285  43.564356  -1.395633   \n",
       "530319  90.996582 -0.089914             1.0  49.064289  43.564359  -1.395620   \n",
       "530320  93.612373  0.340582             1.0  49.064327  43.564391  -1.395450   \n",
       "530321  90.886055 -0.481367             1.0  49.064445  43.564491  -1.394932   \n",
       "\n",
       "              wse                   geometry  \n",
       "0       44.389114  POINT (-1.47501 43.39910)  \n",
       "1       42.305660  POINT (-1.47480 43.39926)  \n",
       "2       47.736122  POINT (-1.47484 43.39927)  \n",
       "3       50.070847  POINT (-1.47513 43.39953)  \n",
       "4       39.561031  POINT (-1.47405 43.39893)  \n",
       "...           ...                        ...  \n",
       "530317  40.470184  POINT (-1.39467 43.56434)  \n",
       "530318  45.027184  POINT (-1.39563 43.56436)  \n",
       "530319  41.932293  POINT (-1.39562 43.56436)  \n",
       "530320  44.548046  POINT (-1.39545 43.56439)  \n",
       "530321  41.821609  POINT (-1.39493 43.56449)  \n",
       "\n",
       "[530322 rows x 8 columns]"
      ]
     },
     "execution_count": 7,
     "metadata": {},
     "output_type": "execute_result"
    }
   ],
   "source": [
    "from pixcdust.readers.gpkg import GpkgReader\n",
    "\n",
    "# nb: you may specify \n",
    "pixc_read = GpkgReader(\n",
    "    \"/tmp/pixc_gpkg.gpkg\"\n",
    ")\n",
    "pixc_read.read()\n",
    "pixc_read.data"
   ]
  },
  {
   "cell_type": "markdown",
   "metadata": {},
   "source": [
    "Enjoy!"
   ]
  }
 ],
 "metadata": {
  "kernelspec": {
   "display_name": "Python 3 (ipykernel)",
   "language": "python",
   "name": "python3"
  },
  "language_info": {
   "codemirror_mode": {
    "name": "ipython",
    "version": 3
   },
   "file_extension": ".py",
   "mimetype": "text/x-python",
   "name": "python",
   "nbconvert_exporter": "python",
   "pygments_lexer": "ipython3",
   "version": "3.10.12"
  }
 },
 "nbformat": 4,
 "nbformat_minor": 4
}
